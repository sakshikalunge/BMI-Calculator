{
 "cells": [
  {
   "cell_type": "markdown",
   "id": "8885810d-f8be-4baa-b487-bb633f9e8b68",
   "metadata": {},
   "source": [
    "Formula for calculating BMI = weight (kgs) ÷ height*2 (meters)\n"
   ]
  },
  {
   "cell_type": "code",
   "execution_count": 29,
   "id": "8d1d2668-d779-445a-a29b-abbb871cbfb5",
   "metadata": {},
   "outputs": [
    {
     "name": "stdin",
     "output_type": "stream",
     "text": [
      "Enter your good name: Sakshi\n",
      "Enter your weight in Kgs: 53\n",
      "Enter your height in meters: 1.62\n"
     ]
    },
    {
     "name": "stdout",
     "output_type": "stream",
     "text": [
      "The BMI for given measurements is: 20.195092211553114\n",
      "Sakshi, you are of normal weight\n"
     ]
    }
   ],
   "source": [
    "name = input(\"Enter your good name:\")\n",
    "weight = float(input(\"Enter your weight in Kgs:\"))\n",
    "height = float(input(\"Enter your height in meters:\"))\n",
    "\n",
    "BMI = (weight)/(height * height)\n",
    "print(\"The BMI for given measurements is:\", BMI)\n",
    "\n",
    "if(BMI > 0):\n",
    "    if(BMI < 18.5):\n",
    "        print(name + \", you are Underweight\")\n",
    "    elif(BMI <= 24.9):\n",
    "        print(name + \", you are of normal weight\")\n",
    "    elif(BMI < 29.9):\n",
    "        print(name + \", you are Overweight\")\n",
    "    elif(BMI < 34.9):\n",
    "        print(name + \", you are Obese!\")\n",
    "    elif(BMI < 39.9):\n",
    "        print(name + \", you are severly obese! Take immediate action.\")\n",
    "    else:\n",
    "        print(\"Please enter valid measurements:\")"
   ]
  },
  {
   "cell_type": "code",
   "execution_count": null,
   "id": "a332dfc4-5505-4dd8-9157-eff3d1596a52",
   "metadata": {},
   "outputs": [],
   "source": []
  }
 ],
 "metadata": {
  "kernelspec": {
   "display_name": "Python 3 (ipykernel)",
   "language": "python",
   "name": "python3"
  },
  "language_info": {
   "codemirror_mode": {
    "name": "ipython",
    "version": 3
   },
   "file_extension": ".py",
   "mimetype": "text/x-python",
   "name": "python",
   "nbconvert_exporter": "python",
   "pygments_lexer": "ipython3",
   "version": "3.12.4"
  }
 },
 "nbformat": 4,
 "nbformat_minor": 5
}
